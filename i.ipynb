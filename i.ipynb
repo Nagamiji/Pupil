{
 "cells": [
  {
   "cell_type": "code",
   "execution_count": 1,
   "id": "e85b20ef",
   "metadata": {},
   "outputs": [
    {
     "name": "stdout",
     "output_type": "stream",
     "text": [
      "hello\n"
     ]
    }
   ],
   "source": [
    "print(\"hello\")"
   ]
  },
  {
   "cell_type": "code",
   "execution_count": 4,
   "id": "a27bae21",
   "metadata": {},
   "outputs": [],
   "source": [
    "import numpy as np\n",
    "a = (1e-10)\n",
    "b = np.exp(38.9*0.5)"
   ]
  },
  {
   "cell_type": "code",
   "execution_count": 5,
   "id": "35b643f0",
   "metadata": {},
   "outputs": [
    {
     "name": "stdout",
     "output_type": "stream",
     "text": [
      "3.15629284434549\n"
     ]
    }
   ],
   "source": [
    "r = 3.4 - 6*a*(b-1) - 0.5/6.6\n",
    "print(r)"
   ]
  }
 ],
 "metadata": {
  "kernelspec": {
   "display_name": "venv",
   "language": "python",
   "name": "python3"
  },
  "language_info": {
   "codemirror_mode": {
    "name": "ipython",
    "version": 3
   },
   "file_extension": ".py",
   "mimetype": "text/x-python",
   "name": "python",
   "nbconvert_exporter": "python",
   "pygments_lexer": "ipython3",
   "version": "3.10.12"
  }
 },
 "nbformat": 4,
 "nbformat_minor": 5
}
